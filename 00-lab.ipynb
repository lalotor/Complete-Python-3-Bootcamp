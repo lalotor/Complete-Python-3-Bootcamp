{
 "cells": [
  {
   "cell_type": "markdown",
   "metadata": {},
   "source": [
    "# Section 3: Python Objects and Data Structure Basics"
   ]
  },
  {
   "cell_type": "code",
   "execution_count": 1,
   "metadata": {},
   "outputs": [
    {
     "data": {
      "text/plain": [
       "25"
      ]
     },
     "execution_count": 1,
     "metadata": {},
     "output_type": "execute_result"
    }
   ],
   "source": [
    "11 + 14"
   ]
  },
  {
   "cell_type": "code",
   "execution_count": 2,
   "metadata": {},
   "outputs": [
    {
     "name": "stdout",
     "output_type": "stream",
     "text": [
      "Hello from notebook\n"
     ]
    }
   ],
   "source": [
    "print('Hello from notebook')"
   ]
  },
  {
   "cell_type": "code",
   "execution_count": 3,
   "metadata": {},
   "outputs": [
    {
     "data": {
      "text/plain": [
       "0.5"
      ]
     },
     "execution_count": 3,
     "metadata": {},
     "output_type": "execute_result"
    }
   ],
   "source": [
    "1/2"
   ]
  },
  {
   "cell_type": "markdown",
   "metadata": {},
   "source": [
    "## Strings"
   ]
  },
  {
   "cell_type": "code",
   "execution_count": 4,
   "metadata": {},
   "outputs": [
    {
     "data": {
      "text/plain": [
       "'r'"
      ]
     },
     "execution_count": 4,
     "metadata": {},
     "output_type": "execute_result"
    }
   ],
   "source": [
    "hw = \"Hello World\"\n",
    "hw[-3]\n",
    "\n",
    "\"Hello World\"[-3]"
   ]
  },
  {
   "cell_type": "code",
   "execution_count": 5,
   "metadata": {},
   "outputs": [
    {
     "data": {
      "text/plain": [
       "'ink'"
      ]
     },
     "execution_count": 5,
     "metadata": {},
     "output_type": "execute_result"
    }
   ],
   "source": [
    "tmp_str = 'tinker'\n",
    "tmp_str[1:4]\n",
    "\n",
    "'tinker'[1:4]"
   ]
  },
  {
   "cell_type": "code",
   "execution_count": 6,
   "metadata": {},
   "outputs": [
    {
     "name": "stdout",
     "output_type": "stream",
     "text": [
      "Python 3.12.3\n"
     ]
    }
   ],
   "source": [
    "!python -V"
   ]
  },
  {
   "cell_type": "code",
   "execution_count": 7,
   "metadata": {},
   "outputs": [
    {
     "data": {
      "text/plain": [
       "'STRING OBJ'"
      ]
     },
     "execution_count": 7,
     "metadata": {},
     "output_type": "execute_result"
    }
   ],
   "source": [
    "a = 'String obj'\n",
    "\n",
    "a.upper()"
   ]
  },
  {
   "cell_type": "code",
   "execution_count": 8,
   "metadata": {},
   "outputs": [
    {
     "data": {
      "text/plain": [
       "['Java', 'Ruby', 'HTML', 'JS', 'Python']"
      ]
     },
     "execution_count": 8,
     "metadata": {},
     "output_type": "execute_result"
    }
   ],
   "source": [
    "b = \"Java,Ruby,HTML,JS,Python\"\n",
    "\n",
    "b.split(',')"
   ]
  },
  {
   "cell_type": "code",
   "execution_count": 9,
   "metadata": {},
   "outputs": [
    {
     "name": "stdout",
     "output_type": "stream",
     "text": [
      "This is a string: ABCDEF\n",
      "The little red hood\n",
      "The red hood little\n",
      "The little hood hood\n"
     ]
    }
   ],
   "source": [
    "print(\"This is a string: {}\".format(\"ABCDEF\"))\n",
    "\n",
    "print(\"The {} {} {}\".format(\"little\", \"red\", \"hood\"))\n",
    "\n",
    "print(\"The {1} {2} {0}\".format(\"little\", \"red\", \"hood\"))\n",
    "\n",
    "print(\"The {x} {z} {z}\".format(x=\"little\", y=\"red\", z=\"hood\"))"
   ]
  },
  {
   "cell_type": "code",
   "execution_count": 10,
   "metadata": {},
   "outputs": [
    {
     "name": "stdout",
     "output_type": "stream",
     "text": [
      "0.1287001287001287\n",
      "The result was 0.1287001287001287\n",
      "The formatted result was 0.12870\n"
     ]
    }
   ],
   "source": [
    "result = 100/777\n",
    "\n",
    "print(result)\n",
    "\n",
    "print(\"The result was {}\".format(result))\n",
    "\n",
    "print(\"The formatted result was {r:1.5f}\".format(r=result))"
   ]
  },
  {
   "cell_type": "code",
   "execution_count": 13,
   "metadata": {},
   "outputs": [
    {
     "name": "stdout",
     "output_type": "stream",
     "text": [
      "Hello, your name is: Elkin\n"
     ]
    }
   ],
   "source": [
    "name = \"Elkin\"\n",
    "\n",
    "print(f\"Hello, your name is: {name}\")"
   ]
  },
  {
   "cell_type": "markdown",
   "metadata": {},
   "source": [
    "## Lists"
   ]
  },
  {
   "cell_type": "code",
   "execution_count": null,
   "metadata": {},
   "outputs": [
    {
     "name": "stdout",
     "output_type": "stream",
     "text": [
      "[1, 2, 3]\n",
      "[1, 'two', 3]\n",
      "1\n",
      "['two', 3]\n"
     ]
    }
   ],
   "source": [
    "my_list = [1,2,3]\n",
    "\n",
    "print(my_list)\n",
    "\n",
    "my_list = [1,\"two\",3]\n",
    "\n",
    "print(my_list)\n",
    "print(my_list[0])\n",
    "print(my_list[1:])"
   ]
  },
  {
   "cell_type": "code",
   "execution_count": 14,
   "metadata": {},
   "outputs": [
    {
     "name": "stdout",
     "output_type": "stream",
     "text": [
      "['one', 'two', 'three', 'four', 'five']\n",
      "['ONE ALL CAPS', 'two', 'three', 'four', 'five']\n",
      "['ONE ALL CAPS', 'two', 'three', 'four', 'five', 'six']\n",
      "popped_item: six, new_list: ['ONE ALL CAPS', 'two', 'three', 'four', 'five'] \n",
      "popped_item: ONE ALL CAPS, new_list: ['two', 'three', 'four', 'five'] \n"
     ]
    }
   ],
   "source": [
    "my_list = ['one', 'two', 'three']\n",
    "another_list = ['four', 'five']\n",
    "\n",
    "new_list = my_list + another_list\n",
    "print(new_list)\n",
    "\n",
    "new_list[0] = 'ONE ALL CAPS'\n",
    "print(new_list)\n",
    "\n",
    "new_list.append('six')\n",
    "print(new_list)\n",
    "\n",
    "popped_item = new_list.pop()\n",
    "print(f'popped_item: {popped_item}, new_list: {new_list} ')\n",
    "\n",
    "popped_item = new_list.pop(0)\n",
    "print(f'popped_item: {popped_item}, new_list: {new_list} ')"
   ]
  },
  {
   "cell_type": "code",
   "execution_count": 17,
   "metadata": {},
   "outputs": [
    {
     "name": "stdout",
     "output_type": "stream",
     "text": [
      "['a', 'b', 'c', 'e', 'x']\n",
      "[1, 3, 4, 8]\n",
      "['x', 'e', 'c', 'b', 'a']\n",
      "[8, 4, 3, 1]\n"
     ]
    }
   ],
   "source": [
    "new_list = ['a','e','x','b','c']\n",
    "num_list = [4,1,8,3]\n",
    "\n",
    "new_list.sort()\n",
    "num_list.sort()\n",
    "print(new_list)\n",
    "print(num_list)\n",
    "\n",
    "new_list.reverse()\n",
    "num_list.reverse()\n",
    "print(new_list)\n",
    "print(num_list)"
   ]
  },
  {
   "cell_type": "markdown",
   "metadata": {},
   "source": [
    "## Dictionaries"
   ]
  },
  {
   "cell_type": "code",
   "execution_count": null,
   "metadata": {},
   "outputs": [
    {
     "name": "stdout",
     "output_type": "stream",
     "text": [
      "{'key1': 'value1', 'key2': 'value2'}\n",
      "value2\n",
      "{'k1': 123, 'k2': [0, 1, 2], 'k3': {'insideKey': 100}}\n",
      "[0, 1, 2]\n",
      "100\n",
      "C\n"
     ]
    }
   ],
   "source": [
    "my_dict = {'key1':'value1','key2':'value2'}\n",
    "\n",
    "print(my_dict)\n",
    "print(my_dict['key2'])\n",
    "\n",
    "d = {'k1':123,'k2':[0,1,2],'k3':{'insideKey':100}}\n",
    "print(d)\n",
    "print(d['k2'])\n",
    "print(d['k3']['insideKey'])\n",
    "\n",
    "d2 = {'key1':['a','b','c']}\n",
    "print(d2['key1'][2].upper())"
   ]
  },
  {
   "cell_type": "code",
   "execution_count": null,
   "metadata": {},
   "outputs": [
    {
     "name": "stdout",
     "output_type": "stream",
     "text": [
      "{'k1': 100, 'k2': 200}\n",
      "{'k1': 100, 'k2': 200, 'k3': 300}\n",
      "{'k1': 'NEW VALUE', 'k2': 200, 'k3': 300}\n",
      "dict_keys(['k1', 'k2', 'k3'])\n",
      "dict_values([100, 200, 300])\n",
      "dict_items([('k1', 100), ('k2', 200), ('k3', 300)])\n"
     ]
    }
   ],
   "source": [
    "d = {'k1':100,'k2':200}\n",
    "print(d)\n",
    "\n",
    "d['k3'] = 300\n",
    "print(d)\n",
    "\n",
    "d['k1'] = 'NEW VALUE'\n",
    "print(d)\n",
    "\n",
    "d = {'k1':100,'k2':200,'k3':300}\n",
    "print(d.keys())\n",
    "print(d.values())\n",
    "print(d.items())"
   ]
  },
  {
   "cell_type": "markdown",
   "metadata": {},
   "source": [
    "## Tuples"
   ]
  },
  {
   "cell_type": "code",
   "execution_count": 33,
   "metadata": {},
   "outputs": [
    {
     "name": "stdout",
     "output_type": "stream",
     "text": [
      "(1, 2, 3)\n",
      "[1, 2, 3]\n",
      "<class 'tuple'>\n",
      "<class 'list'>\n",
      "3\n",
      "one\n",
      "2\n"
     ]
    }
   ],
   "source": [
    "t = (1,2,3)\n",
    "l = [1,2,3]\n",
    "\n",
    "print(t)\n",
    "print(l)\n",
    "\n",
    "print(type(t))\n",
    "print(type(l))\n",
    "\n",
    "print(len(t))\n",
    "\n",
    "t2 = ('one',2)\n",
    "print(t2[0])\n",
    "print(t2[-1])\n"
   ]
  },
  {
   "cell_type": "code",
   "execution_count": 39,
   "metadata": {},
   "outputs": [
    {
     "name": "stdout",
     "output_type": "stream",
     "text": [
      "2\n",
      "0\n"
     ]
    }
   ],
   "source": [
    "t = ('a','a','b')\n",
    "\n",
    "print(t.count('a'))\n",
    "print(t.index('a'))\n",
    "\n",
    "#t[0] = 'A' # -> TypeError: 'tuple' object does not support item assignment\n"
   ]
  },
  {
   "cell_type": "markdown",
   "metadata": {},
   "source": [
    "## Sets"
   ]
  },
  {
   "cell_type": "code",
   "execution_count": 48,
   "metadata": {},
   "outputs": [
    {
     "name": "stdout",
     "output_type": "stream",
     "text": [
      "{1, 2}\n",
      "{1, 2}\n",
      "{1, 2, 3}\n",
      "{'s', 'p', 'i', 'M'}\n"
     ]
    }
   ],
   "source": [
    "my_set = set()\n",
    "my_set.add(1)\n",
    "my_set.add(2)\n",
    "\n",
    "print(my_set)\n",
    "\n",
    "my_set.add(2)\n",
    "\n",
    "print(my_set)\n",
    "\n",
    "my_list = [1,1,1,1,1,1,1,1,1,2,2,2,2,2,2,3]\n",
    "print(set(my_list))\n",
    "\n",
    "print(set('Mississippi'))"
   ]
  },
  {
   "cell_type": "markdown",
   "metadata": {},
   "source": [
    "## Booleans"
   ]
  },
  {
   "cell_type": "code",
   "execution_count": 51,
   "metadata": {},
   "outputs": [
    {
     "name": "stdout",
     "output_type": "stream",
     "text": [
      "True\n",
      "False\n",
      "<class 'bool'>\n",
      "False\n",
      "True\n"
     ]
    }
   ],
   "source": [
    "print(True)\n",
    "print(False)\n",
    "\n",
    "print(type(False))\n",
    "\n",
    "print(1 > 2)\n",
    "print(1 == 1)\n",
    "\n"
   ]
  },
  {
   "cell_type": "markdown",
   "metadata": {},
   "source": [
    "## I/O with basic files"
   ]
  },
  {
   "cell_type": "code",
   "execution_count": 79,
   "metadata": {},
   "outputs": [
    {
     "name": "stdout",
     "output_type": "stream",
     "text": [
      "Overwriting myfile.txt\n"
     ]
    }
   ],
   "source": [
    "%%writefile myfile.txt\n",
    "Hello this is a text file\n",
    "this is the second line\n",
    "this is the third line"
   ]
  },
  {
   "cell_type": "code",
   "execution_count": 75,
   "metadata": {},
   "outputs": [
    {
     "name": "stdout",
     "output_type": "stream",
     "text": [
      "1st time: Hello this is a text file\n",
      "this is the second line\n",
      "this is the third line\n",
      "***\n",
      "\n",
      "2nd time: ***\n",
      "\n",
      "3rd time: Hello this is a text file\n",
      "this is the second line\n",
      "this is the third line\n",
      "***\n",
      "\n",
      "['Hello this is a text file\\n', 'this is the second line\\n', 'this is the third line\\n']\n"
     ]
    }
   ],
   "source": [
    "myfile = open('myfile.txt')\n",
    "\n",
    "#myfile = open('non-existing-file.txt') #FileNotFoundError: [Errno 2] No such file or directory: 'non-existing-file.txt'\n",
    "\n",
    "#!pwd\n",
    "\n",
    "print(f'1st time: {myfile.read()}***\\n')\n",
    "print(f'2nd time: {myfile.read()}***\\n')\n",
    "\n",
    "myfile.seek(0)\n",
    "print(f'3rd time: {myfile.read()}***\\n')\n",
    "\n",
    "myfile.seek(0)\n",
    "file_lines = myfile.readlines()\n",
    "print(file_lines)\n",
    "\n",
    "myfile.close()\n"
   ]
  },
  {
   "cell_type": "code",
   "execution_count": 80,
   "metadata": {},
   "outputs": [
    {
     "name": "stdout",
     "output_type": "stream",
     "text": [
      "Hello this is a text file\n",
      "this is the second line\n",
      "this is the third line\n",
      "\n",
      "Hello this is a text file\n",
      "this is the second line\n",
      "this is the third line\n",
      "new line appended\n",
      "\n"
     ]
    }
   ],
   "source": [
    "# Best practice\n",
    "with open('myfile.txt') as my_new_file:\n",
    "  contents = my_new_file.read()\n",
    "  print(contents)\n",
    "\n",
    "with open('myfile.txt', mode='a') as my_new_file:\n",
    "  my_new_file.write('new line appended\\n')\n",
    "\n",
    "with open('myfile.txt') as my_new_file:\n",
    "  contents = my_new_file.read()\n",
    "  print(contents)\n"
   ]
  }
 ],
 "metadata": {
  "kernelspec": {
   "display_name": "Python 3",
   "language": "python",
   "name": "python3"
  },
  "language_info": {
   "codemirror_mode": {
    "name": "ipython",
    "version": 3
   },
   "file_extension": ".py",
   "mimetype": "text/x-python",
   "name": "python",
   "nbconvert_exporter": "python",
   "pygments_lexer": "ipython3",
   "version": "3.12.3"
  }
 },
 "nbformat": 4,
 "nbformat_minor": 2
}
