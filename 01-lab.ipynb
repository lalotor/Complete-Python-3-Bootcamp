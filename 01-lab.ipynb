{
 "cells": [
  {
   "cell_type": "markdown",
   "metadata": {},
   "source": [
    "# Section 4: Python Comparison Operators"
   ]
  },
  {
   "cell_type": "code",
   "execution_count": 5,
   "metadata": {},
   "outputs": [
    {
     "name": "stdout",
     "output_type": "stream",
     "text": [
      "True\n",
      "False\n",
      "False\n",
      "True\n",
      "False\n",
      "False\n",
      "True\n"
     ]
    }
   ],
   "source": [
    "print(2 == 2)\n",
    "\n",
    "print('2' == 2)\n",
    "\n",
    "print('two' == 'Two')\n",
    "\n",
    "print(2.0 == 2)\n",
    "\n",
    "print(3 != 3)\n",
    "\n",
    "print(2 > 2)\n",
    "\n",
    "print(2 >= 2)\n"
   ]
  },
  {
   "cell_type": "code",
   "execution_count": 10,
   "metadata": {},
   "outputs": [
    {
     "name": "stdout",
     "output_type": "stream",
     "text": [
      "True\n",
      "False\n",
      "False\n",
      "True\n",
      "True\n"
     ]
    }
   ],
   "source": [
    "print(1 < 2 < 3)\n",
    "\n",
    "print(1 < 2 > 3)\n",
    "\n",
    "print(1 < 2 and 2 > 3)\n",
    "\n",
    "print(10 == 1 or 2 > 1.5)\n",
    "\n",
    "print(not 2 > 3)\n"
   ]
  }
 ],
 "metadata": {
  "kernelspec": {
   "display_name": "Python 3",
   "language": "python",
   "name": "python3"
  },
  "language_info": {
   "codemirror_mode": {
    "name": "ipython",
    "version": 3
   },
   "file_extension": ".py",
   "mimetype": "text/x-python",
   "name": "python",
   "nbconvert_exporter": "python",
   "pygments_lexer": "ipython3",
   "version": "3.12.3"
  }
 },
 "nbformat": 4,
 "nbformat_minor": 2
}
