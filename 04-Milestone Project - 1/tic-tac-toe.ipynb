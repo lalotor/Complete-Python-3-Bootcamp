{
 "cells": [
  {
   "cell_type": "markdown",
   "metadata": {},
   "source": [
    "Constants and global variables "
   ]
  },
  {
   "cell_type": "code",
   "execution_count": 11,
   "metadata": {},
   "outputs": [],
   "source": [
    "POSITION_PLACEHOLDER = '_'\n",
    "PLAYER_1 = 1\n",
    "PLAYER_2 = 2\n",
    "CROSS_CHAR = 'X'\n",
    "CIRCLE_CHAR = 'O'\n",
    "\n",
    "WINNING_COMBINATIONS = [\n",
    "  (0, 1, 2),  # Top row\n",
    "  (3, 4, 5),  # Middle row\n",
    "  (6, 7, 8),  # Bottom row\n",
    "  (0, 3, 6),  # Left column\n",
    "  (1, 4, 7),  # Middle column\n",
    "  (2, 5, 8),  # Right column\n",
    "  (0, 4, 8),  # Diagonal from top-left to bottom-right\n",
    "  (2, 4, 6)   # Diagonal from top-right to bottom-left\n",
    "]\n"
   ]
  },
  {
   "cell_type": "markdown",
   "metadata": {},
   "source": [
    "Util"
   ]
  },
  {
   "cell_type": "code",
   "execution_count": 12,
   "metadata": {},
   "outputs": [],
   "source": [
    "def player_desc(active_player):\n",
    "  return 'Player One (1)' if active_player == PLAYER_1 else 'Player Two (2)'"
   ]
  },
  {
   "cell_type": "markdown",
   "metadata": {},
   "source": [
    "Init"
   ]
  },
  {
   "cell_type": "code",
   "execution_count": 13,
   "metadata": {},
   "outputs": [],
   "source": [
    "def init_board(board):\n",
    "  board = [POSITION_PLACEHOLDER] * 9\n",
    "  return board"
   ]
  },
  {
   "cell_type": "markdown",
   "metadata": {},
   "source": [
    "Display board"
   ]
  },
  {
   "cell_type": "code",
   "execution_count": 14,
   "metadata": {},
   "outputs": [],
   "source": [
    "def display(board):\n",
    "  print('-XOX- TIC-TAC-TOE in Python -XOX-')\n",
    "  print()\n",
    "  print('-------------')\n",
    "\n",
    "  for row in range(3):\n",
    "    print('|', end='')\n",
    "    for col in range(3):\n",
    "      print(f' {board[row * 3 + col]} |', end='')\n",
    "    print()\n",
    "\n",
    "  print('-------------')\n"
   ]
  },
  {
   "cell_type": "markdown",
   "metadata": {},
   "source": [
    "Ask for user input"
   ]
  },
  {
   "cell_type": "code",
   "execution_count": 15,
   "metadata": {},
   "outputs": [],
   "source": [
    "def user_turn(board, active_player):\n",
    "  position = -1\n",
    "\n",
    "  while position not in range(1,10):\n",
    "    position_input = input(f'{player_desc(active_player)} choose position (1-9): ')\n",
    "    \n",
    "    if position_input.isdigit():\n",
    "      position = int(position_input)\n",
    "    \n",
    "    if position not in range(1,10):\n",
    "      print('Please choose a valid position')\n",
    "    elif board[position - 1] != POSITION_PLACEHOLDER:\n",
    "      print('Please choose an empty position')\n",
    "      position = -1\n",
    "\n",
    "  return position"
   ]
  },
  {
   "cell_type": "markdown",
   "metadata": {},
   "source": [
    "Update position"
   ]
  },
  {
   "cell_type": "code",
   "execution_count": 16,
   "metadata": {},
   "outputs": [],
   "source": [
    "def update_position(board, position, active_player):\n",
    "  if active_player == PLAYER_1:\n",
    "    board[position - 1] = CROSS_CHAR\n",
    "    return PLAYER_2\n",
    "  else:\n",
    "    board[position - 1] = CIRCLE_CHAR\n",
    "    return PLAYER_1"
   ]
  },
  {
   "cell_type": "markdown",
   "metadata": {},
   "source": [
    "Switch active player"
   ]
  },
  {
   "cell_type": "code",
   "execution_count": 17,
   "metadata": {},
   "outputs": [],
   "source": [
    "def switch_active_player(active_player):\n",
    "  if active_player == PLAYER_1:\n",
    "    return PLAYER_2\n",
    "  else:\n",
    "    return PLAYER_1"
   ]
  },
  {
   "cell_type": "markdown",
   "metadata": {},
   "source": [
    "Check winner"
   ]
  },
  {
   "cell_type": "code",
   "execution_count": 18,
   "metadata": {},
   "outputs": [],
   "source": [
    "def check_win_status(board):\n",
    "  for combo in WINNING_COMBINATIONS:\n",
    "    if board[combo[0]] == board[combo[1]] == board[combo[2]] != POSITION_PLACEHOLDER:\n",
    "      return True\n",
    "\n",
    "  return False"
   ]
  },
  {
   "cell_type": "markdown",
   "metadata": {},
   "source": [
    "Run game"
   ]
  },
  {
   "cell_type": "code",
   "execution_count": 19,
   "metadata": {},
   "outputs": [],
   "source": [
    "from IPython.display import clear_output\n",
    "\n",
    "def run_game():\n",
    "  board = init_board([])\n",
    "  display(board)\n",
    "\n",
    "  game_on = True\n",
    "  turns_played = 0\n",
    "  active_player = PLAYER_1\n",
    "\n",
    "  while game_on:\n",
    "    position = user_turn(board, active_player)\n",
    "    \n",
    "    active_player = update_position(board, position, active_player)\n",
    "    \n",
    "    clear_output()\n",
    "    display(board)\n",
    "\n",
    "    if check_win_status(board):\n",
    "      winner = 'ONE' if active_player == PLAYER_2 else 'TWO'\n",
    "      print()\n",
    "      print(f'PLAYER {winner} WINS!')\n",
    "      game_on = False\n",
    "\n",
    "    turns_played += 1\n",
    "\n",
    "    if turns_played == 9:\n",
    "      print('TIE GAME')\n",
    "      game_on = False\n",
    "  "
   ]
  },
  {
   "cell_type": "code",
   "execution_count": 20,
   "metadata": {},
   "outputs": [
    {
     "name": "stdout",
     "output_type": "stream",
     "text": [
      "-XOX- TIC-TAC-TOE in Python -XOX-\n",
      "\n",
      "-------------\n",
      "| X | O | X |\n",
      "| O | X | O |\n",
      "| X | _ | _ |\n",
      "-------------\n",
      "\n",
      "PLAYER ONE WINS!\n"
     ]
    }
   ],
   "source": [
    "run_game()"
   ]
  }
 ],
 "metadata": {
  "kernelspec": {
   "display_name": "Python 3",
   "language": "python",
   "name": "python3"
  },
  "language_info": {
   "codemirror_mode": {
    "name": "ipython",
    "version": 3
   },
   "file_extension": ".py",
   "mimetype": "text/x-python",
   "name": "python",
   "nbconvert_exporter": "python",
   "pygments_lexer": "ipython3",
   "version": "3.12.3"
  }
 },
 "nbformat": 4,
 "nbformat_minor": 2
}
