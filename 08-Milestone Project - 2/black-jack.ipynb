{
 "cells": [
  {
   "cell_type": "markdown",
   "metadata": {},
   "source": [
    "Constants and global variables "
   ]
  },
  {
   "cell_type": "code",
   "execution_count": 1,
   "metadata": {},
   "outputs": [],
   "source": [
    "import random\n",
    "\n",
    "INITIAL_MONEY_AMOUNT = 50\n",
    "BUSTED_LIMIT = 21\n",
    "ACE = \"Ace\"\n",
    "ACE_ALTERNATE_VALUE = 1\n",
    "\n",
    "suits = ('Hearts', 'Diamonds', 'Spades', 'Clubs')\n",
    "ranks = ('Two', 'Three', 'Four', 'Five', 'Six', 'Seven', 'Eight', 'Nine', 'Ten', 'Jack', 'Queen',\n",
    "         'King', ACE)\n",
    "values = {'Two':2, 'Three':3, 'Four':4, 'Five':5, 'Six':6, 'Seven':7, 'Eight':8, 'Nine':9,\n",
    "          'Ten':10, 'Jack':10, 'Queen':10, 'King':10, ACE:11}"
   ]
  },
  {
   "cell_type": "markdown",
   "metadata": {},
   "source": [
    "Classes"
   ]
  },
  {
   "cell_type": "code",
   "execution_count": 2,
   "metadata": {},
   "outputs": [],
   "source": [
    "class CustomError(Exception):\n",
    "\n",
    "    def __init__(self, message):\n",
    "        self.value = message\n",
    "\n",
    "    def __str__(self):\n",
    "        return self.value"
   ]
  },
  {
   "cell_type": "code",
   "execution_count": 3,
   "metadata": {},
   "outputs": [],
   "source": [
    "class Card:\n",
    "    \n",
    "    def __init__(self,suit,rank):\n",
    "        self.suit = suit\n",
    "        self.rank = rank\n",
    "        self.value = values[rank]\n",
    "\n",
    "    def __str__(self):\n",
    "        return f\"{self.rank} of {self.suit} ({self.value})\""
   ]
  },
  {
   "cell_type": "code",
   "execution_count": 4,
   "metadata": {},
   "outputs": [
    {
     "name": "stdout",
     "output_type": "stream",
     "text": [
      "Ten of Diamonds (10)\n"
     ]
    }
   ],
   "source": [
    "ten_diamonds = Card(suits[1], ranks[8])\n",
    "print(ten_diamonds)"
   ]
  },
  {
   "cell_type": "code",
   "execution_count": 5,
   "metadata": {},
   "outputs": [],
   "source": [
    "class Deck:\n",
    "    \n",
    "    def __init__(self):\n",
    "        self.all_cards = [Card(suit, rank) for suit in suits for rank in ranks]\n",
    "\n",
    "    def shuffle(self):\n",
    "        random.shuffle(self.all_cards)\n",
    "\n",
    "    def deal_one(self):\n",
    "        return self.all_cards.pop()"
   ]
  },
  {
   "cell_type": "code",
   "execution_count": 6,
   "metadata": {},
   "outputs": [
    {
     "name": "stdout",
     "output_type": "stream",
     "text": [
      "52\n",
      "Ace of Clubs (11)\n",
      "King of Clubs (10)\n",
      "50\n",
      "Four of Spades (4)\n",
      "Five of Clubs (5)\n"
     ]
    }
   ],
   "source": [
    "deck = Deck()\n",
    "print(len(deck.all_cards))\n",
    "print(deck.deal_one())\n",
    "print(deck.deal_one())\n",
    "print(len(deck.all_cards))\n",
    "\n",
    "deck = Deck()\n",
    "deck.shuffle()\n",
    "print(deck.deal_one())\n",
    "print(deck.deal_one())"
   ]
  },
  {
   "cell_type": "code",
   "execution_count": 7,
   "metadata": {},
   "outputs": [],
   "source": [
    "class Hand:\n",
    "\n",
    "    def __init__(self):\n",
    "        self.cards = []\n",
    "        self.total = 0\n",
    "        self.busted = False\n",
    "\n",
    "    def receive_card(self, card):\n",
    "        self.cards.append(card)\n",
    "        self.total += card.value\n",
    "        if self.total > BUSTED_LIMIT:\n",
    "            if not self.adjust_for_ace():\n",
    "                self.busted = True\n",
    "    \n",
    "    def adjust_for_ace(self):\n",
    "        for card in self.cards:\n",
    "            if card.rank == ACE and card.value == values[ACE]:\n",
    "                card.value = ACE_ALTERNATE_VALUE\n",
    "                self.total -= (values[ACE] - ACE_ALTERNATE_VALUE)\n",
    "                return True\n",
    "        return False\n",
    "\n",
    "    def clear(self):\n",
    "        self.cards.clear()\n",
    "        self.total = 0\n",
    "        self.busted = False\n",
    "\n",
    "    def show_cards(self):\n",
    "        print(', '.join(str(card) for card in self.cards))\n",
    "\n",
    "    def show_last_card(self):\n",
    "        print(self.cards[-1])\n",
    "\n",
    "    def __str__(self):\n",
    "        return f\"{len(self.cards)} cards, for {self.total} total. Is busted? {self.busted}\""
   ]
  },
  {
   "cell_type": "code",
   "execution_count": 8,
   "metadata": {},
   "outputs": [
    {
     "name": "stdout",
     "output_type": "stream",
     "text": [
      "2 cards, for 13 total. Is busted? False\n",
      "Two of Spades (2), Ace of Hearts (11)\n",
      "0 cards, for 0 total. Is busted? False\n",
      "2 cards, for 20 total. Is busted? False\n",
      "Nine of Diamonds (9), Ace of Diamonds (11)\n",
      "3 cards, for 17 total. Is busted? False\n",
      "Nine of Diamonds (9), Ace of Diamonds (1), Seven of Diamonds (7)\n",
      "4 cards, for 22 total. Is busted? True\n",
      "Nine of Diamonds (9), Ace of Diamonds (1), Seven of Diamonds (7), Five of Diamonds (5)\n"
     ]
    }
   ],
   "source": [
    "deck = Deck()\n",
    "deck.shuffle()\n",
    "\n",
    "hand = Hand()\n",
    "hand.receive_card(deck.deal_one())\n",
    "hand.receive_card(deck.deal_one())\n",
    "print(hand)\n",
    "hand.show_cards()\n",
    "\n",
    "hand.clear()\n",
    "print(hand)\n",
    "\n",
    "#ACE SPECIAL LOGIC\n",
    "nine_diamonds = Card(suits[1], ranks[7])\n",
    "ace_diamonds = Card(suits[1], ranks[12])\n",
    "seven_diamonds = Card(suits[1], ranks[5])\n",
    "five_diamonds = Card(suits[1], ranks[3])\n",
    "\n",
    "hand.receive_card(nine_diamonds)\n",
    "hand.receive_card(ace_diamonds)\n",
    "print(hand)\n",
    "hand.show_cards()\n",
    "hand.receive_card(seven_diamonds)\n",
    "print(hand)\n",
    "hand.show_cards()\n",
    "hand.receive_card(five_diamonds)\n",
    "print(hand)\n",
    "hand.show_cards()"
   ]
  },
  {
   "cell_type": "code",
   "execution_count": 9,
   "metadata": {},
   "outputs": [],
   "source": [
    "class Player:\n",
    "\n",
    "    def __init__(self, hand, name, money = 0):\n",
    "        self.hand = hand\n",
    "        self.name = name\n",
    "        self.money = money\n",
    "\n",
    "    def __str__(self):\n",
    "        return f\"Name: {self.name}, money: {self.money}, hand: {self.hand}\""
   ]
  },
  {
   "cell_type": "code",
   "execution_count": 21,
   "metadata": {},
   "outputs": [],
   "source": [
    "class Game:\n",
    "\n",
    "    def __init__(self):\n",
    "        self.dealer = None\n",
    "        self.player = None\n",
    "        self.deck = Deck()\n",
    "        self.deck.shuffle()\n",
    "\n",
    "    def start(self):\n",
    "        self.dealer = Player(Hand(), \"Dealer\")\n",
    "        self.player = Player(Hand(), \"Player\", INITIAL_MONEY_AMOUNT)\n",
    "\n",
    "    def deal_cards(self):\n",
    "        self.player.hand.clear()\n",
    "        self.dealer.hand.clear()\n",
    "        for _ in range(2):\n",
    "            self.player.hand.receive_card(self.deck.deal_one())\n",
    "            self.dealer.hand.receive_card(self.deck.deal_one())\n",
    "\n",
    "    def show_state(self, reveal_dealer = False):\n",
    "        print(\"-------------------------\")\n",
    "        print(\"--------DEALER HAND------\")\n",
    "        if reveal_dealer:\n",
    "            print(self.dealer)\n",
    "            self.dealer.hand.show_cards()\n",
    "        else:\n",
    "            self.dealer.hand.show_last_card()\n",
    "        print(\"--------PLAYER HAND------\")\n",
    "        print(self.player)\n",
    "        self.player.hand.show_cards()\n",
    "        print(\"-------------------------\")\n"
   ]
  },
  {
   "cell_type": "markdown",
   "metadata": {},
   "source": [
    "Functions"
   ]
  },
  {
   "cell_type": "code",
   "execution_count": 11,
   "metadata": {},
   "outputs": [],
   "source": [
    "def ask_for_bet(player):\n",
    "\n",
    "    print(\"-------PLAYER BET--------\")\n",
    "    while True:\n",
    "        try:\n",
    "            bet = int(input(f\"{player.name}, place your bet: \"))\n",
    "            if 0 < bet <= player.money:\n",
    "                print(f\"Bet {bet}\")\n",
    "                print(player)\n",
    "                return bet\n",
    "            else:\n",
    "              raise CustomError(\"Bet must be greater than zero and less than or equal to your current money.\")\n",
    "        except ValueError as err:\n",
    "            print(\"Please enter a numeric value\")\n",
    "        except CustomError as err:\n",
    "            print(f\"Please check: {err}\")\n"
   ]
  },
  {
   "cell_type": "code",
   "execution_count": 19,
   "metadata": {},
   "outputs": [
    {
     "name": "stdout",
     "output_type": "stream",
     "text": [
      "-------PLAYER BET--------\n",
      "Bet 11\n",
      "Name: test, money: 50, hand: 0 cards, for 0 total. Is busted? False\n"
     ]
    }
   ],
   "source": [
    "player = Player(Hand(), \"test\", INITIAL_MONEY_AMOUNT)\n",
    "bet = ask_for_bet(player)"
   ]
  },
  {
   "cell_type": "code",
   "execution_count": 13,
   "metadata": {},
   "outputs": [],
   "source": [
    "def player_turn(player, deck):\n",
    "\n",
    "    print(\"-------PLAYER TURN-------\")\n",
    "    while True:\n",
    "        action = input(f\"{player.name}, choose Hit (h/H) or Stay (s/S): \").lower()\n",
    "        if action == \"h\":\n",
    "            print(\"-----------HIT-----------\")\n",
    "            player.hand.receive_card(deck.deal_one())\n",
    "            print(player)\n",
    "            if player.hand.busted:\n",
    "                print(\"--->>>PLAYER BUSTED<<<---\")\n",
    "                return True\n",
    "        elif action == \"s\":\n",
    "            print(\"-----------STAY----------\")\n",
    "            return False\n",
    "        else:\n",
    "            print(\"Invalid action. Only enter Hit (h/H) or Stay (s/S)\")"
   ]
  },
  {
   "cell_type": "code",
   "execution_count": 14,
   "metadata": {},
   "outputs": [],
   "source": [
    "def dealer_turn(dealer, player, deck):\n",
    "\n",
    "    print(\"-------DEALER TURN-------\")\n",
    "    while dealer.hand.total <= player.hand.total and not dealer.hand.busted:\n",
    "        dealer.hand.receive_card(deck.deal_one())\n",
    "        print(dealer)\n",
    "\n",
    "    return dealer.hand.total > player.hand.total and not dealer.hand.busted"
   ]
  },
  {
   "cell_type": "code",
   "execution_count": 15,
   "metadata": {},
   "outputs": [],
   "source": [
    "def ask_for_keep_playing():\n",
    "\n",
    "    while True:\n",
    "          action = input(f\"Do you want to keep playing? Yes (y/Y) or No (n/N): \").lower()\n",
    "          if action == \"y\":\n",
    "              return True\n",
    "          elif action == \"n\":\n",
    "              return False\n",
    "          else:\n",
    "              print(\"Invalid action. Only enter Yes (y/Y) or No (n/N)\")"
   ]
  },
  {
   "cell_type": "code",
   "execution_count": 16,
   "metadata": {},
   "outputs": [],
   "source": [
    "def update_money(game, bet, dealer_wins):\n",
    "    if dealer_wins:\n",
    "        game.dealer.money += bet\n",
    "        game.player.money -= bet\n",
    "    else:\n",
    "        game.player.money += bet\n",
    "        game.dealer.money -= bet"
   ]
  },
  {
   "cell_type": "markdown",
   "metadata": {},
   "source": [
    "Run game"
   ]
  },
  {
   "cell_type": "code",
   "execution_count": 22,
   "metadata": {},
   "outputs": [
    {
     "name": "stdout",
     "output_type": "stream",
     "text": [
      "---------NEW PLAY--------\n",
      "-------------------------\n",
      "--------DEALER HAND------\n",
      "Ace of Clubs (11)\n",
      "--------PLAYER HAND------\n",
      "Name: Player, money: 50, hand: 2 cards, for 11 total. Is busted? False\n",
      "Four of Spades (4), Seven of Spades (7)\n",
      "-------------------------\n",
      "-------PLAYER BET--------\n",
      "Bet 50\n",
      "Name: Player, money: 50, hand: 2 cards, for 11 total. Is busted? False\n",
      "-------PLAYER TURN-------\n",
      "-----------HIT-----------\n",
      "Name: Player, money: 50, hand: 3 cards, for 18 total. Is busted? False\n",
      "-----------STAY----------\n",
      "-------DEALER TURN-------\n",
      "Name: Dealer, money: 0, hand: 3 cards, for 19 total. Is busted? False\n",
      "-------PLAY SUMMARY------\n",
      "--->>>DEALER WINS<<<---\n",
      "-------------------------\n",
      "--------DEALER HAND------\n",
      "Name: Dealer, money: 50, hand: 3 cards, for 19 total. Is busted? False\n",
      "Five of Hearts (5), Ace of Clubs (11), Three of Hearts (3)\n",
      "--------PLAYER HAND------\n",
      "Name: Player, money: 0, hand: 3 cards, for 18 total. Is busted? False\n",
      "Four of Spades (4), Seven of Spades (7), Seven of Diamonds (7)\n",
      "-------------------------\n",
      "-PLAYER IS OUT OF MONEY. GAME OVER-\n"
     ]
    }
   ],
   "source": [
    "def main():\n",
    "    game = Game()\n",
    "    game.start()\n",
    "\n",
    "    while True:\n",
    "        print(\"---------NEW PLAY--------\")\n",
    "        game.deal_cards()\n",
    "        game.show_state()\n",
    "\n",
    "        bet = ask_for_bet(game.player)\n",
    "        player_busted = player_turn(game.player, game.deck)\n",
    "        dealer_wins = dealer_turn(game.dealer, game.player, game.deck) if not player_busted else True\n",
    "        update_money(game, bet, dealer_wins)\n",
    "        \n",
    "        print(\"-------PLAY SUMMARY------\")\n",
    "        if dealer_wins:\n",
    "            print(\"--->>>DEALER WINS<<<---\")\n",
    "        else:\n",
    "            print(\"--->>>PLAYER WINS<<<---\")\n",
    "        game.show_state(True)\n",
    "\n",
    "        if game.player.money == 0:\n",
    "            print(\"-PLAYER IS OUT OF MONEY. GAME OVER-\")\n",
    "            break\n",
    "        \n",
    "        if not ask_for_keep_playing():\n",
    "            print(\"--------GAME OVER--------\")\n",
    "            break\n",
    "\n",
    "if __name__ == \"__main__\":\n",
    "    main()\n"
   ]
  }
 ],
 "metadata": {
  "kernelspec": {
   "display_name": "Python 3",
   "language": "python",
   "name": "python3"
  },
  "language_info": {
   "codemirror_mode": {
    "name": "ipython",
    "version": 3
   },
   "file_extension": ".py",
   "mimetype": "text/x-python",
   "name": "python",
   "nbconvert_exporter": "python",
   "pygments_lexer": "ipython3",
   "version": "3.12.3"
  }
 },
 "nbformat": 4,
 "nbformat_minor": 2
}
