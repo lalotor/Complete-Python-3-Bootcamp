{
 "cells": [
  {
   "cell_type": "markdown",
   "metadata": {},
   "source": [
    "___\n",
    "\n",
    "<a href='https://www.udemy.com/user/joseportilla/'><img src='../../Pierian_Data_Logo.png'/></a>\n",
    "___\n",
    "<center><em>Content Copyright by Pierian Data</em></center>"
   ]
  },
  {
   "cell_type": "markdown",
   "metadata": {},
   "source": [
    "# Advanced Modules Exercise Puzzle\n",
    "\n",
    "It's time to test your new skills, this puzzle project will combine multiple skills sets, including unzipping files with Python, using os module to automatically search through lots of files.\n",
    "\n",
    "## Your Goal\n",
    "\n",
    "This is a puzzle, so we don't want to give you too much guidance and instead have you figure out things on your own.\n",
    "\n",
    "There is a .zip file called 'unzip_me_for_instructions.zip', unzip it, open the .txt file with Python, read the instructions and see if you can figure out what you need to do!\n",
    "\n",
    "**If you get stuck or don't know where to start, here is a [guide/hints](https://docs.google.com/document/d/1JxydUr4n4fSR0EwwuwT-aHia-yPK6r-oTBuVT2sqheo/edit?usp=sharing)**"
   ]
  },
  {
   "cell_type": "markdown",
   "metadata": {},
   "source": [
    "Unzip file"
   ]
  },
  {
   "cell_type": "code",
   "execution_count": 3,
   "metadata": {},
   "outputs": [
    {
     "name": "stdout",
     "output_type": "stream",
     "text": [
      "Successfully unpacked /Users/elktorre/Documents/dev/personal/python/Complete-Python-3-Bootcamp/12-Advanced Python Modules/08-Advanced-Python-Module-Exercise/unzip_me_for_instructions.zip to unzip_me_for_instructions\n"
     ]
    }
   ],
   "source": [
    "import shutil\n",
    "import os\n",
    "\n",
    "ZIP_FILE_NAME = \"unzip_me_for_instructions\"\n",
    "ZIP_EXTENSION = \"zip\"\n",
    "\n",
    "#filename=os.getcwd() + os.path.sep + ZIP_FILE_NAME + \".\" + ZIP_EXTENSION\n",
    "zip_file_path = os.path.join(os.getcwd(), f\"{ZIP_FILE_NAME}.{ZIP_EXTENSION}\")\n",
    "\n",
    "try:\n",
    "    shutil.unpack_archive(zip_file_path, ZIP_FILE_NAME, ZIP_EXTENSION)\n",
    "    print(f\"Successfully unpacked {zip_file_path} to {ZIP_FILE_NAME}\")\n",
    "except (shutil.ReadError, FileNotFoundError) as e:\n",
    "    print(f\"Error unpacking file: {e}\")"
   ]
  },
  {
   "cell_type": "markdown",
   "metadata": {},
   "source": [
    "Functions"
   ]
  },
  {
   "cell_type": "code",
   "execution_count": 11,
   "metadata": {},
   "outputs": [],
   "source": [
    "def read_file(file_path):\n",
    "    try:\n",
    "        with open(file_path, 'r') as file:\n",
    "            for line in file:\n",
    "                print(line, end='')\n",
    "    except FileNotFoundError as e:\n",
    "        print(f\"Error reading file: {e}\")\n",
    "\n",
    "import re\n",
    "\n",
    "def find_regexp_in_file(file_path, reg_exp):\n",
    "    compiled_pattern = re.compile(reg_exp)\n",
    "    try:\n",
    "        with open(file_path, 'r') as file:\n",
    "            for line in file:\n",
    "                match = compiled_pattern.search(line)\n",
    "                if match:\n",
    "                    print(f\"Match found: {match.group()} in file: {file.name}\")\n",
    "    except FileNotFoundError as e:\n",
    "        print(f\"Error reading file: {e}\")\n",
    "    except re.error as e:\n",
    "        print(f\"Invalid regular expression: {e}\")\n",
    "    except Exception as e:\n",
    "        print(f\"Unexpected error: {e}\")\n",
    "        "
   ]
  },
  {
   "cell_type": "markdown",
   "metadata": {},
   "source": [
    "Open and read instructions"
   ]
  },
  {
   "cell_type": "code",
   "execution_count": 5,
   "metadata": {},
   "outputs": [
    {
     "name": "stdout",
     "output_type": "stream",
     "text": [
      "/Users/elktorre/Documents/dev/personal/python/Complete-Python-3-Bootcamp/12-Advanced Python Modules/08-Advanced-Python-Module-Exercise/extracted_content/instructions.txt\n",
      "FILE CONTENT:\n",
      "Good work on unzipping the file!\n",
      "You should now see 5 folders, each with a lot of random .txt files.\n",
      "Within one of these text files is a telephone number formated ###-###-#### \n",
      "Use the Python os module and regular expressions to iterate through each file, open it, and search for a telephone number.\n",
      "Good luck!"
     ]
    }
   ],
   "source": [
    "import pdb\n",
    "\n",
    "readme_path = os.path.join(os.getcwd(), \"extracted_content\", \"instructions.txt\")\n",
    "\n",
    "print(readme_path)\n",
    "#pdb.set_trace()\n",
    "\n",
    "print(\"FILE CONTENT:\")\n",
    "read_file(readme_path)"
   ]
  },
  {
   "cell_type": "markdown",
   "metadata": {},
   "source": [
    "Look for telephone number inside all files using reg-exp"
   ]
  },
  {
   "cell_type": "code",
   "execution_count": 12,
   "metadata": {},
   "outputs": [
    {
     "name": "stdout",
     "output_type": "stream",
     "text": [
      "Match found: 719-266-2837 in file: /Users/elktorre/Documents/dev/personal/python/Complete-Python-3-Bootcamp/12-Advanced Python Modules/08-Advanced-Python-Module-Exercise/extracted_content/Four/EMTGPSXQEJX.txt\n"
     ]
    }
   ],
   "source": [
    "base_path = os.path.join(os.getcwd(), \"extracted_content\")\n",
    "pattern = r\"\\d{3}-\\d{3}-\\d{4}\"\n",
    "\n",
    "for parent_folder, sub_folders, files in os.walk(base_path):\n",
    "    for file in files:\n",
    "        file_path = os.path.join(parent_folder, file)\n",
    "        find_regexp_in_file(file_path, pattern)"
   ]
  }
 ],
 "metadata": {
  "anaconda-cloud": {},
  "kernelspec": {
   "display_name": "Python 3",
   "language": "python",
   "name": "python3"
  },
  "language_info": {
   "codemirror_mode": {
    "name": "ipython",
    "version": 3
   },
   "file_extension": ".py",
   "mimetype": "text/x-python",
   "name": "python",
   "nbconvert_exporter": "python",
   "pygments_lexer": "ipython3",
   "version": "3.12.3"
  }
 },
 "nbformat": 4,
 "nbformat_minor": 2
}
