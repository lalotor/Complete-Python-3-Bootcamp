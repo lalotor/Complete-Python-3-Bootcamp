{
 "cells": [
  {
   "cell_type": "code",
   "execution_count": 3,
   "metadata": {},
   "outputs": [
    {
     "name": "stdout",
     "output_type": "stream",
     "text": [
      "(1, 2, 3, 4, 5)\n",
      "15\n"
     ]
    }
   ],
   "source": [
    "def myfunc(*args):\n",
    "    print(args)\n",
    "    return sum(args)\n",
    "\n",
    "print(myfunc(1,2,3,4,5))"
   ]
  },
  {
   "cell_type": "code",
   "execution_count": 9,
   "metadata": {},
   "outputs": [
    {
     "name": "stdout",
     "output_type": "stream",
     "text": [
      "[2, 4, 6, 8]\n"
     ]
    }
   ],
   "source": [
    "def myfunc(*args):\n",
    "  even_numbers_list = []\n",
    "  for arg in args:\n",
    "    if type(arg) == int and arg % 2 == 0:\n",
    "      even_numbers_list.append(arg)\n",
    "\n",
    "  return even_numbers_list\n",
    "\n",
    "print(myfunc(1,2,3,4,5,6,7,8))\n"
   ]
  },
  {
   "cell_type": "code",
   "execution_count": 19,
   "metadata": {},
   "outputs": [
    {
     "name": "stdout",
     "output_type": "stream",
     "text": [
      "aNtHrOpOmOrPhIsM\n"
     ]
    }
   ],
   "source": [
    "def myfunc(string):\n",
    "  new_string = ''\n",
    "  for i, letter in enumerate(string):\n",
    "    if i % 2 == 0:\n",
    "      new_string += letter.lower()\n",
    "    else:\n",
    "      new_string += letter.upper()\n",
    "\n",
    "  return new_string\n",
    "\n",
    "print(myfunc('Anthropomorphism'))\n"
   ]
  }
 ],
 "metadata": {
  "kernelspec": {
   "display_name": "Python 3",
   "language": "python",
   "name": "python3"
  },
  "language_info": {
   "codemirror_mode": {
    "name": "ipython",
    "version": 3
   },
   "file_extension": ".py",
   "mimetype": "text/x-python",
   "name": "python",
   "nbconvert_exporter": "python",
   "pygments_lexer": "ipython3",
   "version": "3.12.3"
  }
 },
 "nbformat": 4,
 "nbformat_minor": 2
}
